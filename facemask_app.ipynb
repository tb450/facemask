{
 "cells": [
  {
   "cell_type": "code",
   "execution_count": 12,
   "metadata": {},
   "outputs": [],
   "source": [
    "# !pip install torch\n",
    "# print(torch.__version__)\n",
    "# !pip install voila\n",
    "# !jupyter serverextension enable --sys-prefix voila"
   ]
  },
  {
   "cell_type": "code",
   "execution_count": 2,
   "metadata": {},
   "outputs": [],
   "source": [
    "from fastai.vision.all import *\n",
    "from fastai.vision.widgets import *\n",
    "import torch\n",
    "import matplotlib.pyplot as plt\n",
    "import matplotlib.patches as patches"
   ]
  },
  {
   "cell_type": "code",
   "execution_count": 3,
   "metadata": {},
   "outputs": [],
   "source": [
    "#model = torch.load('facemask.pt')\n",
    "#model.cpu()\n",
    "#model.eval()\n",
    "btn_upload = widgets.FileUpload()\n",
    "out_pl = widgets.Output()\n",
    "lbl_pred = widgets.Label()"
   ]
  },
  {
   "cell_type": "code",
   "execution_count": 4,
   "metadata": {},
   "outputs": [],
   "source": [
    "def iou(box1, box2):\n",
    "    b1_area = (box1[2]-box1[0]) * (box1[3]-box1[1])\n",
    "    b2_area = (box2[2]-box2[0]) * (box2[3]-box2[1])\n",
    "    inter_x1 = max(box1[0], box2[0])\n",
    "    inter_x2 = min(box1[2], box2[2])\n",
    "    inter_y1 = max(box1[1], box2[1])\n",
    "    inter_y2 = min(box1[3], box2[3])\n",
    "    inter_area = max(0, (inter_x2 - inter_x1) * (inter_y2 - inter_y1))\n",
    "    union_area = b1_area + b2_area - inter_area\n",
    "    iou = inter_area / union_area\n",
    "    return(iou)"
   ]
  },
  {
   "cell_type": "code",
   "execution_count": 5,
   "metadata": {},
   "outputs": [],
   "source": [
    "def remove_dupe_boxes(pred, thresh=0.75):\n",
    "    new_boxes = []\n",
    "    new_labels = []\n",
    "    new_scores = []\n",
    "    \n",
    "    for i in range(0,len(pred['boxes'])):\n",
    "        this_box = pred['boxes'][i]\n",
    "        dupe = False\n",
    "        for that_box in new_boxes:\n",
    "            this_iou = iou(this_box, that_box)\n",
    "            if this_iou > thresh:\n",
    "                dupe = True\n",
    "                break\n",
    "        if dupe == False:\n",
    "            new_boxes.append(this_box.tolist())\n",
    "            new_labels.append(int(pred['labels'][i]))\n",
    "            new_scores.append(float(pred['scores'][i]))\n",
    "    \n",
    "    new_pred = {'boxes': torch.Tensor(new_boxes), 'labels': torch.IntTensor(new_labels), 'scores': torch.Tensor(new_scores)}\n",
    "    return new_pred"
   ]
  },
  {
   "cell_type": "code",
   "execution_count": 6,
   "metadata": {},
   "outputs": [],
   "source": [
    "def plot_pred(idx, min_score=0.5, iou_thresh=0.75):\n",
    "    img, anno = dataset.__getitem__(idx)\n",
    "    img = img.to(device)\n",
    "\n",
    "    with torch.no_grad():\n",
    "        pred = model(img.unsqueeze(0))[0]\n",
    "    \n",
    "    pred = remove_dupe_boxes(pred, iou_thresh)\n",
    "    bool_mask = pred['scores'] > min_score\n",
    "    pred['boxes'] = pred['boxes'][bool_mask]\n",
    "    pred['labels'] = pred['labels'][bool_mask]\n",
    "    pred['scores'] = pred['scores'][bool_mask]\n",
    "\n",
    "    print(\"Prediction\")\n",
    "    plot_image(img, pred)\n",
    "    print(\"Target\")\n",
    "    plot_image(img, anno)"
   ]
  },
  {
   "cell_type": "code",
   "execution_count": 7,
   "metadata": {},
   "outputs": [],
   "source": [
    "def plot_image(img_tensor, annotation):\n",
    "    \n",
    "    fig,ax = plt.subplots(1)\n",
    "    img = img_tensor.cpu().data\n",
    "    colours = [None,'r','g','y']\n",
    "\n",
    "    # Display the image\n",
    "    ax.imshow(img.permute(1, 2, 0))\n",
    "    \n",
    "    i = 0\n",
    "    for box in annotation[\"boxes\"]:\n",
    "        \n",
    "        xmin, ymin, xmax, ymax = box\n",
    "        col = colours[annotation[\"labels\"][i]]\n",
    "\n",
    "        # Create a Rectangle patch\n",
    "        rect = patches.Rectangle((xmin,ymin),(xmax-xmin),(ymax-ymin),linewidth=2,edgecolor=col,facecolor='none')\n",
    "\n",
    "        # Add the patch to the Axes\n",
    "        ax.add_patch(rect)\n",
    "        i += 1\n",
    "\n",
    "    plt.show()"
   ]
  },
  {
   "cell_type": "code",
   "execution_count": 8,
   "metadata": {},
   "outputs": [],
   "source": [
    "def on_data_change(change):\n",
    "    lbl_pred.value = ''\n",
    "    img = TensorImage(image2tensor(PILImage.create(btn_upload.data[-1]))).float()/255 #PILImage.create(btn_upload.data[-1]).ToTensor()\n",
    "    img.unsqueeze_(0)\n",
    "    out_pl.clear_output()\n",
    "    #with out_pl: display(img.to_thumb(256,256))\n",
    "    pred = model(img)[0] \n",
    "     \n",
    "    pred = remove_dupe_boxes(pred, 0.75)\n",
    "    bool_mask = pred['scores'] > 0.5\n",
    "    pred['boxes'] = pred['boxes'][bool_mask]\n",
    "    pred['labels'] = pred['labels'][bool_mask]\n",
    "    pred['scores'] = pred['scores'][bool_mask]\n",
    "    \n",
    "    #lbl_pred.value = f'Prediction: {pred}; Probability: {probs[pred_idx]:.04f}'\n",
    "    with out_pl: plot_image(img[0] , pred)"
   ]
  },
  {
   "cell_type": "code",
   "execution_count": 9,
   "metadata": {},
   "outputs": [],
   "source": [
    "btn_upload.observe(on_data_change, names=['data'])"
   ]
  },
  {
   "cell_type": "code",
   "execution_count": 10,
   "metadata": {},
   "outputs": [
    {
     "data": {
      "application/vnd.jupyter.widget-view+json": {
       "model_id": "2c23b28bd28a491a92436779a2124334",
       "version_major": 2,
       "version_minor": 0
      },
      "text/plain": [
       "VBox(children=(Label(value='Blah blah blah'), FileUpload(value={}, description='Upload'), Output(), Label(valu…"
      ]
     },
     "metadata": {},
     "output_type": "display_data"
    }
   ],
   "source": [
    "display(VBox([widgets.Label('Upload an image of people with/without face masks'), btn_upload, out_pl, lbl_pred]))"
   ]
  }
 ],
 "metadata": {
  "kernelspec": {
   "display_name": "Python 3",
   "language": "python",
   "name": "python3"
  },
  "language_info": {
   "codemirror_mode": {
    "name": "ipython",
    "version": 3
   },
   "file_extension": ".py",
   "mimetype": "text/x-python",
   "name": "python",
   "nbconvert_exporter": "python",
   "pygments_lexer": "ipython3",
   "version": "3.7.6"
  }
 },
 "nbformat": 4,
 "nbformat_minor": 4
}
